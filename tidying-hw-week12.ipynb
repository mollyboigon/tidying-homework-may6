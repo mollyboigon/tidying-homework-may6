{
 "cells": [
  {
   "cell_type": "code",
   "execution_count": 1,
   "id": "786eadf9",
   "metadata": {},
   "outputs": [],
   "source": [
    "import pandas as pd"
   ]
  },
  {
   "cell_type": "code",
   "execution_count": 11,
   "id": "d189634c",
   "metadata": {},
   "outputs": [],
   "source": [
    "df = pd.read_csv(\"census.csv\")"
   ]
  },
  {
   "cell_type": "code",
   "execution_count": 4,
   "id": "50e05533",
   "metadata": {},
   "outputs": [
    {
     "name": "stdout",
     "output_type": "stream",
     "text": [
      "<class 'pandas.core.frame.DataFrame'>\n",
      "RangeIndex: 129 entries, 0 to 128\n",
      "Data columns (total 10 columns):\n",
      " #   Column           Non-Null Count  Dtype \n",
      "---  ------           --------------  ----- \n",
      " 0   state            129 non-null    object\n",
      " 1   state fips       129 non-null    int64 \n",
      " 2   commodity        129 non-null    object\n",
      " 3   data item        129 non-null    object\n",
      " 4   domain category  15 non-null     object\n",
      " 5   2017             127 non-null    object\n",
      " 6   2012             124 non-null    object\n",
      " 7   2007             124 non-null    object\n",
      " 8   2002             124 non-null    object\n",
      " 9   1997             117 non-null    object\n",
      "dtypes: int64(1), object(9)\n",
      "memory usage: 10.2+ KB\n"
     ]
    }
   ],
   "source": [
    "df.info()"
   ]
  },
  {
   "cell_type": "code",
   "execution_count": 6,
   "id": "bc77a579",
   "metadata": {},
   "outputs": [
    {
     "data": {
      "text/html": [
       "<div>\n",
       "<style scoped>\n",
       "    .dataframe tbody tr th:only-of-type {\n",
       "        vertical-align: middle;\n",
       "    }\n",
       "\n",
       "    .dataframe tbody tr th {\n",
       "        vertical-align: top;\n",
       "    }\n",
       "\n",
       "    .dataframe thead th {\n",
       "        text-align: right;\n",
       "    }\n",
       "</style>\n",
       "<table border=\"1\" class=\"dataframe\">\n",
       "  <thead>\n",
       "    <tr style=\"text-align: right;\">\n",
       "      <th></th>\n",
       "      <th>state</th>\n",
       "      <th>state fips</th>\n",
       "      <th>commodity</th>\n",
       "      <th>data item</th>\n",
       "      <th>domain category</th>\n",
       "      <th>2017</th>\n",
       "      <th>2012</th>\n",
       "      <th>2007</th>\n",
       "      <th>2002</th>\n",
       "      <th>1997</th>\n",
       "    </tr>\n",
       "  </thead>\n",
       "  <tbody>\n",
       "    <tr>\n",
       "      <th>45</th>\n",
       "      <td>US TOTAL</td>\n",
       "      <td>99</td>\n",
       "      <td>CATTLE</td>\n",
       "      <td>CATTLE, INCL CALVES - OPERATIONS WITH INVENTORY</td>\n",
       "      <td>NaN</td>\n",
       "      <td>882,692</td>\n",
       "      <td>913,246</td>\n",
       "      <td>963,669</td>\n",
       "      <td>1,018,359</td>\n",
       "      <td>1,188,659</td>\n",
       "    </tr>\n",
       "    <tr>\n",
       "      <th>92</th>\n",
       "      <td>US TOTAL</td>\n",
       "      <td>99</td>\n",
       "      <td>SOYBEANS</td>\n",
       "      <td>SOYBEANS - ACRES HARVESTED</td>\n",
       "      <td>NaN</td>\n",
       "      <td>90,149,480</td>\n",
       "      <td>76,104,780</td>\n",
       "      <td>63,915,821</td>\n",
       "      <td>72,399,844</td>\n",
       "      <td>67,773,274</td>\n",
       "    </tr>\n",
       "    <tr>\n",
       "      <th>126</th>\n",
       "      <td>US TOTAL</td>\n",
       "      <td>99</td>\n",
       "      <td>SWEET POTATOES</td>\n",
       "      <td>SWEET POTATOES - ACRES HARVESTED</td>\n",
       "      <td>NaN</td>\n",
       "      <td>172,983</td>\n",
       "      <td>125,726</td>\n",
       "      <td>105,284</td>\n",
       "      <td>92,310</td>\n",
       "      <td>80,953</td>\n",
       "    </tr>\n",
       "    <tr>\n",
       "      <th>8</th>\n",
       "      <td>US TOTAL</td>\n",
       "      <td>99</td>\n",
       "      <td>FARM OPERATIONS</td>\n",
       "      <td>FARM OPERATIONS - ACRES OPERATED</td>\n",
       "      <td>NaN</td>\n",
       "      <td>900,217,576</td>\n",
       "      <td>914,527,657</td>\n",
       "      <td>922,095,840</td>\n",
       "      <td>938,279,056</td>\n",
       "      <td>954,752,502</td>\n",
       "    </tr>\n",
       "    <tr>\n",
       "      <th>125</th>\n",
       "      <td>US TOTAL</td>\n",
       "      <td>99</td>\n",
       "      <td>SWEET POTATOES</td>\n",
       "      <td>SWEET POTATOES - OPERATIONS WITH AREA HARVESTED</td>\n",
       "      <td>NaN</td>\n",
       "      <td>4,798</td>\n",
       "      <td>2,202</td>\n",
       "      <td>1,910</td>\n",
       "      <td>2,366</td>\n",
       "      <td>1,976</td>\n",
       "    </tr>\n",
       "  </tbody>\n",
       "</table>\n",
       "</div>"
      ],
      "text/plain": [
       "        state  state fips        commodity  \\\n",
       "45   US TOTAL          99           CATTLE   \n",
       "92   US TOTAL          99         SOYBEANS   \n",
       "126  US TOTAL          99   SWEET POTATOES   \n",
       "8    US TOTAL          99  FARM OPERATIONS   \n",
       "125  US TOTAL          99   SWEET POTATOES   \n",
       "\n",
       "                                           data item domain category  \\\n",
       "45   CATTLE, INCL CALVES - OPERATIONS WITH INVENTORY             NaN   \n",
       "92                        SOYBEANS - ACRES HARVESTED             NaN   \n",
       "126                 SWEET POTATOES - ACRES HARVESTED             NaN   \n",
       "8                   FARM OPERATIONS - ACRES OPERATED             NaN   \n",
       "125  SWEET POTATOES - OPERATIONS WITH AREA HARVESTED             NaN   \n",
       "\n",
       "            2017         2012         2007         2002         1997  \n",
       "45       882,692      913,246      963,669    1,018,359    1,188,659  \n",
       "92    90,149,480   76,104,780   63,915,821   72,399,844   67,773,274  \n",
       "126      172,983      125,726      105,284       92,310       80,953  \n",
       "8    900,217,576  914,527,657  922,095,840  938,279,056  954,752,502  \n",
       "125        4,798        2,202        1,910        2,366        1,976  "
      ]
     },
     "execution_count": 6,
     "metadata": {},
     "output_type": "execute_result"
    }
   ],
   "source": [
    "df.sample(5)"
   ]
  },
  {
   "cell_type": "code",
   "execution_count": 16,
   "id": "b98d2b6e",
   "metadata": {},
   "outputs": [
    {
     "data": {
      "text/plain": [
       "AREA OPERATED: (1.0 TO 9.9 ACRES)        1\n",
       "AREA OPERATED: (10.0 TO 49.9 ACRES)      1\n",
       "AREA OPERATED: (50 TO 179 ACRES)         1\n",
       "AREA OPERATED: (180 TO 499 ACRES)        1\n",
       "AREA OPERATED: (500 TO 999 ACRES)        1\n",
       "AREA OPERATED: (1,000 TO 1,999 ACRES)    1\n",
       "AREA OPERATED: (2,000 OR MORE ACRES)     1\n",
       "FARM SALES: (LESS THAN 2,500 $)          1\n",
       "FARM SALES: (2,500 TO 4,999 $)           1\n",
       "FARM SALES: (5,000 TO 9,999 $)           1\n",
       "FARM SALES: (10,000 TO 24,999 $)         1\n",
       "FARM SALES: (25,000 TO 49,999 $)         1\n",
       "FARM SALES: (50,000 TO 99,999 $)         1\n",
       "FARM SALES: (100,000 TO 499,999 $)       1\n",
       "FARM SALES: (500,000 OR MORE $)          1\n",
       "Name: domain category, dtype: int64"
      ]
     },
     "execution_count": 16,
     "metadata": {},
     "output_type": "execute_result"
    }
   ],
   "source": [
    "df[\"domain category\"].value_counts()"
   ]
  },
  {
   "cell_type": "code",
   "execution_count": 17,
   "id": "b2a352da",
   "metadata": {},
   "outputs": [
    {
     "data": {
      "text/plain": [
       "US TOTAL    129\n",
       "Name: state, dtype: int64"
      ]
     },
     "execution_count": 17,
     "metadata": {},
     "output_type": "execute_result"
    }
   ],
   "source": [
    "df[\"state\"].value_counts()"
   ]
  },
  {
   "cell_type": "code",
   "execution_count": null,
   "id": "c4ec4e65",
   "metadata": {},
   "outputs": [],
   "source": [
    "df[\"\"].value_counts()"
   ]
  },
  {
   "cell_type": "code",
   "execution_count": null,
   "id": "54073338",
   "metadata": {},
   "outputs": [],
   "source": []
  },
  {
   "cell_type": "code",
   "execution_count": null,
   "id": "bf7f9e08",
   "metadata": {},
   "outputs": [],
   "source": []
  },
  {
   "cell_type": "code",
   "execution_count": 7,
   "id": "bd411d99",
   "metadata": {},
   "outputs": [],
   "source": [
    "clean_df = df.drop(columns = \"state\", \"state fips\",)"
   ]
  },
  {
   "cell_type": "code",
   "execution_count": 8,
   "id": "ebf6fd45",
   "metadata": {},
   "outputs": [
    {
     "data": {
      "text/html": [
       "<div>\n",
       "<style scoped>\n",
       "    .dataframe tbody tr th:only-of-type {\n",
       "        vertical-align: middle;\n",
       "    }\n",
       "\n",
       "    .dataframe tbody tr th {\n",
       "        vertical-align: top;\n",
       "    }\n",
       "\n",
       "    .dataframe thead th {\n",
       "        text-align: right;\n",
       "    }\n",
       "</style>\n",
       "<table border=\"1\" class=\"dataframe\">\n",
       "  <thead>\n",
       "    <tr style=\"text-align: right;\">\n",
       "      <th></th>\n",
       "      <th>commodity</th>\n",
       "      <th>variable</th>\n",
       "      <th>value</th>\n",
       "    </tr>\n",
       "  </thead>\n",
       "  <tbody>\n",
       "    <tr>\n",
       "      <th>0</th>\n",
       "      <td>FARM OPERATIONS</td>\n",
       "      <td>state</td>\n",
       "      <td>US TOTAL</td>\n",
       "    </tr>\n",
       "    <tr>\n",
       "      <th>1</th>\n",
       "      <td>FARM OPERATIONS</td>\n",
       "      <td>state</td>\n",
       "      <td>US TOTAL</td>\n",
       "    </tr>\n",
       "    <tr>\n",
       "      <th>2</th>\n",
       "      <td>FARM OPERATIONS</td>\n",
       "      <td>state</td>\n",
       "      <td>US TOTAL</td>\n",
       "    </tr>\n",
       "    <tr>\n",
       "      <th>3</th>\n",
       "      <td>FARM OPERATIONS</td>\n",
       "      <td>state</td>\n",
       "      <td>US TOTAL</td>\n",
       "    </tr>\n",
       "    <tr>\n",
       "      <th>4</th>\n",
       "      <td>FARM OPERATIONS</td>\n",
       "      <td>state</td>\n",
       "      <td>US TOTAL</td>\n",
       "    </tr>\n",
       "    <tr>\n",
       "      <th>...</th>\n",
       "      <td>...</td>\n",
       "      <td>...</td>\n",
       "      <td>...</td>\n",
       "    </tr>\n",
       "    <tr>\n",
       "      <th>1156</th>\n",
       "      <td>POTATOES</td>\n",
       "      <td>1997</td>\n",
       "      <td>1,372,458</td>\n",
       "    </tr>\n",
       "    <tr>\n",
       "      <th>1157</th>\n",
       "      <td>SWEET POTATOES</td>\n",
       "      <td>1997</td>\n",
       "      <td>1,976</td>\n",
       "    </tr>\n",
       "    <tr>\n",
       "      <th>1158</th>\n",
       "      <td>SWEET POTATOES</td>\n",
       "      <td>1997</td>\n",
       "      <td>80,953</td>\n",
       "    </tr>\n",
       "    <tr>\n",
       "      <th>1159</th>\n",
       "      <td>ORCHARDS</td>\n",
       "      <td>1997</td>\n",
       "      <td>123,420</td>\n",
       "    </tr>\n",
       "    <tr>\n",
       "      <th>1160</th>\n",
       "      <td>ORCHARDS</td>\n",
       "      <td>1997</td>\n",
       "      <td>NaN</td>\n",
       "    </tr>\n",
       "  </tbody>\n",
       "</table>\n",
       "<p>1161 rows × 3 columns</p>\n",
       "</div>"
      ],
      "text/plain": [
       "            commodity variable      value\n",
       "0     FARM OPERATIONS    state   US TOTAL\n",
       "1     FARM OPERATIONS    state   US TOTAL\n",
       "2     FARM OPERATIONS    state   US TOTAL\n",
       "3     FARM OPERATIONS    state   US TOTAL\n",
       "4     FARM OPERATIONS    state   US TOTAL\n",
       "...               ...      ...        ...\n",
       "1156         POTATOES     1997  1,372,458\n",
       "1157   SWEET POTATOES     1997      1,976\n",
       "1158   SWEET POTATOES     1997     80,953\n",
       "1159         ORCHARDS     1997    123,420\n",
       "1160         ORCHARDS     1997        NaN\n",
       "\n",
       "[1161 rows x 3 columns]"
      ]
     },
     "execution_count": 8,
     "metadata": {},
     "output_type": "execute_result"
    }
   ],
   "source": [
    "melt_df"
   ]
  },
  {
   "cell_type": "code",
   "execution_count": null,
   "id": "f8b239b5",
   "metadata": {},
   "outputs": [],
   "source": []
  }
 ],
 "metadata": {
  "kernelspec": {
   "display_name": "Python 3 (ipykernel)",
   "language": "python",
   "name": "python3"
  },
  "language_info": {
   "codemirror_mode": {
    "name": "ipython",
    "version": 3
   },
   "file_extension": ".py",
   "mimetype": "text/x-python",
   "name": "python",
   "nbconvert_exporter": "python",
   "pygments_lexer": "ipython3",
   "version": "3.9.7"
  }
 },
 "nbformat": 4,
 "nbformat_minor": 5
}
